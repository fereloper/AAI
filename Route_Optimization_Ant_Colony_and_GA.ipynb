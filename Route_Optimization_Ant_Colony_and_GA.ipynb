{
  "nbformat": 4,
  "nbformat_minor": 0,
  "metadata": {
    "colab": {
      "name": "Route Optimization - Ant Colony and GA.ipynb",
      "provenance": [],
      "collapsed_sections": [],
      "include_colab_link": true
    },
    "kernelspec": {
      "name": "python3",
      "display_name": "Python 3"
    },
    "accelerator": "GPU"
  },
  "cells": [
    {
      "cell_type": "markdown",
      "metadata": {
        "id": "view-in-github",
        "colab_type": "text"
      },
      "source": [
        "<a href=\"https://colab.research.google.com/github/feroj21/AAI/blob/main/Route_Optimization_Ant_Colony_and_GA.ipynb\" target=\"_parent\"><img src=\"https://colab.research.google.com/assets/colab-badge.svg\" alt=\"Open In Colab\"/></a>"
      ]
    },
    {
      "cell_type": "code",
      "metadata": {
        "id": "ATKDFplB5nv2"
      },
      "source": [
        "import pandas as pd\n",
        "import numpy as np\n",
        "import io\n",
        "import copy\n",
        "import pickle\n",
        "import datetime\n",
        "import random\n",
        "import matplotlib.pyplot as plt\n",
        "import xgboost as xgb\n",
        "from google.colab import drive"
      ],
      "execution_count": 2,
      "outputs": []
    },
    {
      "cell_type": "code",
      "metadata": {
        "id": "ycM_aoWLAyJ1"
      },
      "source": [
        "class Graph(object):\n",
        "    def __init__(self, cost_matrix: list, rank: int):\n",
        "        self.matrix = cost_matrix\n",
        "        self.rank = rank\n",
        "        self.pheromone = [[1 / (rank * rank)\n",
        "                           for j in range(rank)] for i in range(rank)]\n",
        "\n",
        "\n",
        "class ACO(object):\n",
        "    def __init__(self, ant_count: int, generations: int):\n",
        "        self.Q = 10.0\n",
        "        self.rho = .7\n",
        "        self.beta = 10\n",
        "        self.alpha = 1\n",
        "        self.ant_count = ant_count\n",
        "        self.generations = generations\n",
        "        self.update_strategy = 2\n",
        "\n",
        "    def _update_pheromone(self, graph: Graph, ants: list):\n",
        "        for i, row in enumerate(graph.pheromone):\n",
        "            for j, col in enumerate(row):\n",
        "                graph.pheromone[i][j] *= self.rho\n",
        "                for ant in ants:\n",
        "                    graph.pheromone[i][j] += ant.pheromone_delta[i][j]\n",
        "\n",
        "    # noinspection PyProtectedMember\n",
        "    def solve(self, graph: Graph):\n",
        "        \n",
        "        best_cost = float('inf')\n",
        "        best_solution = []\n",
        "        avg_costs = []\n",
        "        best_costs = []\n",
        "        for gen in range(self.generations):\n",
        "            # noinspection PyUnusedLocal\n",
        "            ants = [_Ant(self, graph) for i in range(self.ant_count)]\n",
        "            for ant in ants:\n",
        "                curr_cost = []\n",
        "                for i in range(graph.rank - 1):\n",
        "                    ant._select_next()\n",
        "                ant.total_cost += graph.matrix[ant.tabu[-1]][ant.tabu[0]]\n",
        "                curr_cost.append(ant.total_cost)\n",
        "                if ant.total_cost < best_cost:\n",
        "                    best_cost = ant.total_cost\n",
        "                    best_solution = [] + ant.tabu\n",
        "                # update pheromone\n",
        "                ant._update_pheromone_delta()\n",
        "            self._update_pheromone(graph, ants)\n",
        "            best_costs.append(best_cost)\n",
        "            avg_costs.append(np.mean(curr_cost))\n",
        "\n",
        "            # print('Generation #{} best cost: {}, avg cost: {}, path: {}'.format(\n",
        "            #         gen+1, best_cost, avg_costs[-1], best_solution))\n",
        "                \n",
        "        return best_solution, best_cost, avg_costs, best_costs\n",
        "\n",
        "\n",
        "class _Ant(object):\n",
        "    def __init__(self, aco: ACO, graph: Graph):\n",
        "        self.colony = aco\n",
        "        self.graph = graph\n",
        "        self.total_cost = 0.0\n",
        "        self.tabu = []  # tabu list\n",
        "        self.pheromone_delta = []  # the local increase of pheromone\n",
        "        # nodes which are allowed for the next selection\n",
        "        self.allowed = [i for i in range(graph.rank)]\n",
        "        self.eta = [[0 if i == j else 1 / graph.matrix[i][j] for j in range(graph.rank)] for i in\n",
        "                    range(graph.rank)]  # heuristic information\n",
        "        start = random.randint(0, graph.rank - 1)  # start from any node\n",
        "        self.tabu.append(start)\n",
        "        self.current = start\n",
        "        self.allowed.remove(start)\n",
        "\n",
        "    def _select_next(self):\n",
        "        denominator = 0\n",
        "        for i in self.allowed:\n",
        "            denominator += self.graph.pheromone[self.current][i] ** self.colony.alpha * self.eta[self.current][\n",
        "                i] ** self.colony.beta\n",
        "        # noinspection PyUnusedLocal\n",
        "        # probabilities for moving to a node in the next step\n",
        "        probabilities = [0 for i in range(self.graph.rank)]\n",
        "        for i in range(self.graph.rank):\n",
        "            try:\n",
        "                self.allowed.index(i)  # test if allowed list contains i\n",
        "                probabilities[i] = self.graph.pheromone[self.current][i] ** self.colony.alpha * \\\n",
        "                    self.eta[self.current][i] ** self.colony.beta / denominator\n",
        "            except ValueError:\n",
        "                pass  # do nothing\n",
        "        # select next node by probability roulette\n",
        "        selected = 0\n",
        "        rand = random.random()\n",
        "        for i, probability in enumerate(probabilities):\n",
        "            rand -= probability\n",
        "            if rand <= 0:\n",
        "                selected = i\n",
        "                break\n",
        "        self.allowed.remove(selected)\n",
        "        self.tabu.append(selected)\n",
        "        self.total_cost += self.graph.matrix[self.current][selected]\n",
        "        self.current = selected\n",
        "\n",
        "    # noinspection PyUnusedLocal\n",
        "    def _update_pheromone_delta(self):\n",
        "        self.pheromone_delta = [\n",
        "            [0 for j in range(self.graph.rank)] for i in range(self.graph.rank)]\n",
        "        for _ in range(1, len(self.tabu)):\n",
        "            i = self.tabu[_ - 1]\n",
        "            j = self.tabu[_]\n",
        "            if self.colony.update_strategy == 1:  # ant-quality system\n",
        "                self.pheromone_delta[i][j] = self.colony.Q\n",
        "            elif self.colony.update_strategy == 2:  # ant-density system\n",
        "                # noinspection PyTypeChecker\n",
        "                self.pheromone_delta[i][j] = self.colony.Q / \\\n",
        "                    self.graph.matrix[i][j]\n",
        "            else:  # ant-cycle system\n",
        "                self.pheromone_delta[i][j] = self.colony.Q / self.total_cost"
      ],
      "execution_count": 20,
      "outputs": []
    },
    {
      "cell_type": "markdown",
      "metadata": {
        "id": "Tu1e9W7x7EVu"
      },
      "source": [
        "#Variables declaration"
      ]
    },
    {
      "cell_type": "markdown",
      "metadata": {
        "id": "EOG9SAWe4E_X"
      },
      "source": [
        "Cost Matrix Generate [Based on time between point]"
      ]
    },
    {
      "cell_type": "code",
      "metadata": {
        "id": "U1oMmMQmqw63"
      },
      "source": [
        "def generate_cost_matrix(rank):\n",
        "  cost_matrix = []\n",
        "  for i in range(rank):\n",
        "      row = []\n",
        "      for j in range(rank):\n",
        "          row.append(time_cost_between_points(locations[i], locations[j]))\n",
        "      cost_matrix.append(row)\n",
        "\n",
        "  return cost_matrix"
      ],
      "execution_count": 4,
      "outputs": []
    },
    {
      "cell_type": "code",
      "metadata": {
        "id": "7RZitYCYB31t"
      },
      "source": [
        "def trip_distance_cost(loc1, loc2):\n",
        "    return 0.621371 * 6371 * (\n",
        "        abs(2 * np.arctan2(np.sqrt(np.square(\n",
        "            np.sin((abs(loc2['y'] - loc1['y']) * np.pi / 180) / 2))),\n",
        "            np.sqrt(1-(np.square(np.sin((abs(loc2['y'] - loc1['y']) * np.pi / 180) / 2)))))) +\n",
        "        abs(2 * np.arctan2(np.sqrt(np.square(np.sin((abs(loc2['x'] - loc1['x']) * np.pi / 180) / 2))),\n",
        "                           np.sqrt(1-(np.square(np.sin((abs(loc2['x'] - loc1['x']) * np.pi / 180) / 2)))))))"
      ],
      "execution_count": 6,
      "outputs": []
    },
    {
      "cell_type": "code",
      "metadata": {
        "id": "Q3XtN6oj93CT"
      },
      "source": [
        "def time_cost_between_points(loc1, loc2):\n",
        "    date_list = [10, 10, 2020]\n",
        "\n",
        "    year = int(date_list[2])\n",
        "    month = int(date_list[1])\n",
        "    day = int(date_list[0])\n",
        "\n",
        "    my_date = datetime.date(year, month, day)\n",
        "\n",
        "    model_data = {'passenger_count': 1,\n",
        "                  'pickup_longitude': loc1['x'],\n",
        "                  'pickup_latitude': loc1['y'],\n",
        "                  'dropoff_longitude': loc2['x'],\n",
        "                  'dropoff_latitude': loc2['y'],\n",
        "                  'store_and_fwd_flag': False,\n",
        "                  'pickup_month': my_date.month,\n",
        "                  'pickup_day': my_date.day,\n",
        "                  'pickup_weekday': my_date.weekday(),\n",
        "                  'pickup_hour': 23,\n",
        "                  'pickup_minute': 10,\n",
        "                  'latitude_difference': loc2['y'] - loc1['y'],\n",
        "                  'longitude_difference': loc2['x'] - loc1['x'],\n",
        "                  'trip_distance': trip_distance_cost(loc1, loc2)\n",
        "                  }\n",
        "\n",
        "    df = pd.DataFrame([model_data], columns=model_data.keys())\n",
        "    pred = np.exp(loaded_model.predict(xgb.DMatrix(df))) - 1\n",
        "    return pred[0]"
      ],
      "execution_count": 7,
      "outputs": []
    },
    {
      "cell_type": "code",
      "metadata": {
        "id": "zngukzv9HJb9"
      },
      "source": [
        "def total_cost_from_path(path):\n",
        "    total_cost = 0\n",
        "    for i in range(1, len(path)):\n",
        "        j = i - 1\n",
        "        total_cost += cost_matrix[path[j]][path[i]]\n",
        "    # Find time it takes to go back to original location\n",
        "    total_cost += cost_matrix[path[-1]][path[0]]\n",
        "    return total_cost"
      ],
      "execution_count": 8,
      "outputs": []
    },
    {
      "cell_type": "markdown",
      "metadata": {
        "id": "zDdapco7Izl1"
      },
      "source": [
        "#Training model and variables"
      ]
    },
    {
      "cell_type": "code",
      "metadata": {
        "id": "HRp27n9z7Ddq",
        "outputId": "432cf67c-21b3-4645-c671-1355178ade2e",
        "colab": {
          "base_uri": "https://localhost:8080/",
          "height": 51
        }
      },
      "source": [
        "location_count = 15\n",
        "\n",
        "locations = []\n",
        "points = []\n",
        "drive.mount('/content/gdrive')\n",
        "\n",
        "#Model Training\n",
        "filename = \"gdrive/My Drive/ANT/xgb_model.sav\"\n",
        "loaded_model = pickle.load(open(filename, 'rb'))"
      ],
      "execution_count": 10,
      "outputs": [
        {
          "output_type": "stream",
          "text": [
            "Drive already mounted at /content/gdrive; to attempt to forcibly remount, call drive.mount(\"/content/gdrive\", force_remount=True).\n",
            "[09:07:53] WARNING: /workspace/src/objective/regression_obj.cu:152: reg:linear is now deprecated in favor of reg:squarederror.\n"
          ],
          "name": "stdout"
        }
      ]
    },
    {
      "cell_type": "code",
      "metadata": {
        "id": "72PN4arI5JhO"
      },
      "source": [
        "df = pd.read_csv('gdrive/My Drive/ANT/test.csv')[:location_count]\n",
        "for index, row in df.iterrows():\n",
        "    locations.append({\n",
        "        'index': index,\n",
        "        'x': row['pickup_longitude'],\n",
        "        'y': row['pickup_latitude']\n",
        "    })\n",
        "    points.append((row['pickup_longitude'], row['pickup_latitude']))\n"
      ],
      "execution_count": 11,
      "outputs": []
    },
    {
      "cell_type": "markdown",
      "metadata": {
        "id": "fhj6jwqTCCEf"
      },
      "source": [
        "#ACO Algorithms"
      ]
    },
    {
      "cell_type": "code",
      "metadata": {
        "id": "oKVKvSVK26-1",
        "outputId": "d07292fc-a048-4ae8-bf78-789b84e7e0e0",
        "colab": {
          "base_uri": "https://localhost:8080/",
          "height": 590
        }
      },
      "source": [
        "rank = len(locations)\n",
        "g = 300\n",
        "a = 20\n",
        "cost_matrix = generate_cost_matrix(rank)\n",
        "\n",
        "# Pass in user arguments\n",
        "aco = ACO(ant_count=a, generations=g)\n",
        "\n",
        "# Build graph with cost matrix and number of points\n",
        "graph = Graph(cost_matrix, rank)\n",
        "# Get results from ant colony, specify whether verbose output\n",
        "result = []\n",
        "for i in range(5):\n",
        "  best_path, cost, avg_costs, best_costs = aco.solve(graph)\n",
        "  result.append(best_costs)\n",
        "\n",
        "x_values = [i for i in range(g)]\n",
        "plt.title(\"Best Cost vs Generation for \" + str(a) + \" Ants\")\n",
        "plt.ylabel(\"Best Cost\")\n",
        "plt.xlabel(\"Current Generation\")\n",
        "plt.plot(x_values, best_costs)\n",
        "plt.show()"
      ],
      "execution_count": 39,
      "outputs": [
        {
          "output_type": "stream",
          "text": [
            "126.95769550275803\n"
          ],
          "name": "stdout"
        },
        {
          "output_type": "display_data",
          "data": {
            "image/png": "[encoded data removed]",
            "text/plain": [
              "<Figure size 432x288 with 1 Axes>"
            ]
          },
          "metadata": {
            "tags": [],
            "needs_background": "light"
          }
        },
        {
          "output_type": "display_data",
          "data": {
            "image/png": "[encoded data removed]",
            "text/plain": [
              "<Figure size 432x288 with 1 Axes>"
            ]
          },
          "metadata": {
            "tags": [],
            "needs_background": "light"
          }
        }
      ]
    },
    {
      "cell_type": "markdown",
      "metadata": {
        "id": "DyxWE4_zDglf"
      },
      "source": [
        "#Genetic Algorithms"
      ]
    },
    {
      "cell_type": "code",
      "metadata": {
        "id": "a7FbLz2bHAoc"
      },
      "source": [
        "def GA(generations, p):\n",
        "  best_cost = 0\n",
        "  best_path = []\n",
        "  y_values = []\n",
        "  for g in range(generations):\n",
        "    # Store the generation's best costs\n",
        "    g_star = []\n",
        "    # Iterate through each path in population\n",
        "    for i in range(p):\n",
        "        # Mutation\n",
        "        # Select a random path, not including current\n",
        "        indicies = [j for j in range(p)]\n",
        "        indicies.remove(i)\n",
        "        mutant_index = int(random.sample(indicies, 1)[0])\n",
        "        mutant_candidate = population[mutant_index]\n",
        "\n",
        "        # Swap indicies based on mutation rate\n",
        "        mutated_path = []\n",
        "        for d in range(loc_count):\n",
        "            if random.random() <= mutation and d > 0:\n",
        "                mutated_path.append(mutated_path[d-1])\n",
        "                mutated_path[d-1] = mutant_candidate[d]\n",
        "            else:\n",
        "                mutated_path.append(mutant_candidate[d])\n",
        "\n",
        "        # Crossover\n",
        "        # Create candidate path by crossing over with mutant\n",
        "        curr_element = population[i]\n",
        "        candidate = []\n",
        "        for d in range(loc_count):\n",
        "            # Roll for chance to crossover value\n",
        "            if random.random() <= crossover:\n",
        "                candidate.append(mutated_path[d])\n",
        "            else:\n",
        "                candidate.append(curr_element[d])\n",
        "\n",
        "        # Remove duplicate indicies\n",
        "        candidate = list(dict.fromkeys(candidate))\n",
        "        # Find missing indicies\n",
        "        missing_indicies = []\n",
        "        for d in range(loc_count):\n",
        "            if d not in candidate:\n",
        "                missing_indicies.append(d)\n",
        "\n",
        "        # Merge candidate with shuffled missing indicies\n",
        "        random.shuffle(missing_indicies)\n",
        "        candidate += missing_indicies\n",
        "\n",
        "        # Selection\n",
        "        # Select parent based on smaller path cost\n",
        "        candidate_cost = total_cost_from_path(candidate)\n",
        "        curr_cost = total_cost_from_path(curr_element)\n",
        "\n",
        "        if candidate_cost < curr_cost:\n",
        "            population[i] = copy.copy(candidate)\n",
        "            g_star.append(candidate_cost)\n",
        "        else:\n",
        "            g_star.append(curr_cost)\n",
        "\n",
        "    best_cost = min(g_star)\n",
        "    y_values.append(best_cost)\n",
        "    avg_costs.append(np.mean(g_star))\n",
        "    best_path = population[g_star.index(best_cost)]\n",
        "  return best_cost, best_path, y_values\n"
      ],
      "execution_count": 140,
      "outputs": []
    },
    {
      "cell_type": "code",
      "metadata": {
        "id": "PdKDypCoDk22"
      },
      "source": [
        "\n",
        "mutation = .5  \n",
        "crossover = .7\n",
        "loc_count = 15\n",
        "population = []\n",
        "n = 20\n",
        "for i in range(n):\n",
        "    new_path = [j for j in range(loc_count)]\n",
        "    random.shuffle(new_path)\n",
        "    population.append(new_path)\n",
        "# For plotting\n",
        "x_values = [i for i in range(generations)]\n",
        "avg_costs = []"
      ],
      "execution_count": 145,
      "outputs": []
    },
    {
      "cell_type": "code",
      "metadata": {
        "id": "lBC6UtcMBGQ0",
        "outputId": "1d9c614e-739d-4799-a2e1-76e981f4724d",
        "colab": {
          "base_uri": "https://localhost:8080/",
          "height": 71
        }
      },
      "source": [
        "\n",
        "generations = 300\n",
        "result = []\n",
        "b_path = []\n",
        "y_values_u = []\n",
        "\n",
        "# for i in range(5):\n",
        "#   b_cost, b_path, y_values_u = GA(generations, n)\n",
        "#   result.append(b_cost)\n",
        "b_cost, b_path, y_values = GA(generations, n)\n",
        "# print(np.mean(result))\n",
        "print(y_values)\n",
        "print(b_cost)"
      ],
      "execution_count": 154,
      "outputs": [
        {
          "output_type": "stream",
          "text": [
            "[131.43754482269287, 131.43754482269287, 131.43754482269287, 131.43754482269287, 131.43754482269287, 131.43754482269287, 131.43754482269287, 131.43754482269287, 131.43754482269287, 131.43754482269287, 131.43754482269287, 131.43754482269287, 131.43754482269287, 131.43754482269287, 131.43754482269287, 131.43754482269287, 131.43754482269287, 131.43754482269287, 131.43754482269287, 131.43754482269287, 131.43754482269287, 131.43754482269287, 131.43754482269287, 131.43754482269287, 131.43754482269287, 131.43754482269287, 131.43754482269287, 131.43754482269287, 131.43754482269287, 131.43754482269287, 131.43754482269287, 131.43754482269287, 131.43754482269287, 131.43754482269287, 131.43754482269287, 131.43754482269287, 131.43754482269287, 131.43754482269287, 131.43754482269287, 131.43754482269287, 131.43754482269287, 131.43754482269287, 131.43754482269287, 131.43754482269287, 131.43754482269287, 131.43754482269287, 131.43754482269287, 131.43754482269287, 131.43754482269287, 131.43754482269287, 131.43754482269287, 131.43754482269287, 131.43754482269287, 131.43754482269287, 131.43754482269287, 131.43754482269287, 131.43754482269287, 131.43754482269287, 131.43754482269287, 131.43754482269287, 131.43754482269287, 131.43754482269287, 131.43754482269287, 131.43754482269287, 131.43754482269287, 131.43754482269287, 131.43754482269287, 131.43754482269287, 131.43754482269287, 131.43754482269287, 131.43754482269287, 131.43754482269287, 131.43754482269287, 131.43754482269287, 131.43754482269287, 131.43754482269287, 131.43754482269287, 131.43754482269287, 131.43754482269287, 131.43754482269287, 131.43754482269287, 131.43754482269287, 131.43754482269287, 131.43754482269287, 131.43754482269287, 131.43754482269287, 131.43754482269287, 131.43754482269287, 131.43754482269287, 131.43754482269287, 131.43754482269287, 131.43754482269287, 131.43754482269287, 131.43754482269287, 131.43754482269287, 131.43754482269287, 131.43754482269287, 131.43754482269287, 131.43754482269287, 131.43754482269287, 131.43754482269287, 131.43754482269287, 131.43754482269287, 131.43754482269287, 131.43754482269287, 131.43754482269287, 131.43754482269287, 131.43754482269287, 131.43754482269287, 131.43754482269287, 131.43754482269287, 131.43754482269287, 131.43754482269287, 131.43754482269287, 131.43754482269287, 131.43754482269287, 131.43754482269287, 131.43754482269287, 131.43754482269287, 131.43754482269287, 131.43754482269287, 131.43754482269287, 131.43754482269287, 131.43754482269287, 131.43754482269287, 131.43754482269287, 131.43754482269287, 131.43754482269287, 131.43754482269287, 131.43754482269287, 131.43754482269287, 131.43754482269287, 131.43754482269287, 131.43754482269287, 131.43754482269287, 131.43754482269287, 131.43754482269287, 131.43754482269287, 131.43754482269287, 131.43754482269287, 131.43754482269287, 131.43754482269287, 131.43754482269287, 131.43754482269287, 131.43754482269287, 131.43754482269287, 131.43754482269287, 131.43754482269287, 131.43754482269287, 131.43754482269287, 131.43754482269287, 131.43754482269287, 131.43754482269287, 131.43754482269287, 131.43754482269287, 131.43754482269287, 131.43754482269287, 131.43754482269287, 131.43754482269287, 131.43754482269287, 131.43754482269287, 131.05094575881958, 131.05094575881958, 131.05094575881958, 131.05094575881958, 131.05094575881958, 131.05094575881958, 131.05094575881958, 131.05094575881958, 131.05094575881958, 131.05094575881958, 131.05094575881958, 131.05094575881958, 131.05094575881958, 131.05094575881958, 131.05094575881958, 131.05094575881958, 131.05094575881958, 131.05094575881958, 131.05094575881958, 131.05094575881958, 131.05094575881958, 131.05094575881958, 131.05094575881958, 131.05094575881958, 131.05094575881958, 131.05094575881958, 131.05094575881958, 131.05094575881958, 131.05094575881958, 131.05094575881958, 131.05094575881958, 131.05094575881958, 131.05094575881958, 131.05094575881958, 131.05094575881958, 131.05094575881958, 131.05094575881958, 131.05094575881958, 131.05094575881958, 131.05094575881958, 131.05094575881958, 131.05094575881958, 131.05094575881958, 131.05094575881958, 131.05094575881958, 131.05094575881958, 131.05094575881958, 131.05094575881958, 131.05094575881958, 131.05094575881958, 131.05094575881958, 131.05094575881958, 131.05094575881958, 131.05094575881958, 131.05094575881958, 131.05094575881958, 131.05094575881958, 131.05094575881958, 131.05094575881958, 131.05094575881958, 131.05094575881958, 131.05094575881958, 131.05094575881958, 131.05094575881958, 131.05094575881958, 131.05094575881958, 131.05094575881958, 131.05094575881958, 131.05094575881958, 131.05094575881958, 131.05094575881958, 131.05094575881958, 131.05094575881958, 131.05094575881958, 131.05094575881958, 131.05094575881958, 131.05094575881958, 131.05094575881958, 131.05094575881958, 131.05094575881958, 131.05094575881958, 131.05094575881958, 131.05094575881958, 131.05094575881958, 131.05094575881958, 131.05094575881958, 131.05094575881958, 131.05094575881958, 131.05094575881958, 131.05094575881958, 131.05094575881958, 131.05094575881958, 131.05094575881958, 131.05094575881958, 131.05094575881958, 131.05094575881958, 131.05094575881958, 131.05094575881958, 131.05094575881958, 131.05094575881958, 131.05094575881958, 131.05094575881958, 131.05094575881958, 131.05094575881958, 131.05094575881958, 131.05094575881958, 131.05094575881958, 131.05094575881958, 131.05094575881958, 131.05094575881958, 131.05094575881958, 131.05094575881958, 131.05094575881958, 131.05094575881958, 131.05094575881958, 131.05094575881958, 131.05094575881958, 131.05094575881958, 131.05094575881958, 131.05094575881958, 131.05094575881958, 131.05094575881958, 131.05094575881958, 131.05094575881958, 131.05094575881958, 131.05094575881958, 131.05094575881958, 131.05094575881958, 131.05094575881958, 131.05094575881958, 131.05094575881958, 131.05094575881958, 131.05094575881958, 131.05094575881958, 131.05094575881958, 131.05094575881958, 131.05094575881958, 131.05094575881958, 131.05094575881958]\n",
            "131.05094575881958\n"
          ],
          "name": "stdout"
        }
      ]
    },
    {
      "cell_type": "code",
      "metadata": {
        "id": "ALgA1G3HHvFM",
        "outputId": "d28f3297-8650-477d-8e38-75ace08680ab",
        "colab": {
          "base_uri": "https://localhost:8080/",
          "height": 295
        }
      },
      "source": [
        "# Plot out the results\n",
        "plt.title(\"Best Cost vs Generation for \" + str(n) + \" Population\")\n",
        "plt.ylabel(\"Cost\")\n",
        "plt.xlabel(\"Current Generation\")\n",
        "plt.plot(x_values, y_values)\n",
        "plt.show()\n"
      ],
      "execution_count": 157,
      "outputs": [
        {
          "output_type": "display_data",
          "data": {
            "image/png": "[encoded data removed]",
            "text/plain": [
              "<Figure size 432x288 with 1 Axes>"
            ]
          },
          "metadata": {
            "tags": [],
            "needs_background": "light"
          }
        }
      ]
    },
    {
      "cell_type": "markdown",
      "metadata": {
        "id": "5mseABTs2m2a"
      },
      "source": [
        "Reference for CSP in routing: \n",
        " 1. https://www.researchgate.net/publication/236455098_A_constraint_programming-based_library_for_the_Vehicle_Routing_Problem\n",
        " 2. https://stackoverflow.com/questions/49741213/tsp-optimization-csp-algorithm"
      ]
    }
  ]
}